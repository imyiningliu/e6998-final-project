{
 "cells": [
  {
   "cell_type": "code",
   "execution_count": 1,
   "metadata": {},
   "outputs": [],
   "source": [
    "# Reference: https://github.com/tensorflow/gnn/blob/main/examples/tutorials/neurips_2022/neurips_teacher_tfgnn_graph_classification_mutag.ipynb"
   ]
  },
  {
   "cell_type": "code",
   "execution_count": 2,
   "metadata": {},
   "outputs": [
    {
     "name": "stderr",
     "output_type": "stream",
     "text": [
      "2022-12-15 17:14:02.234964: I tensorflow/core/platform/cpu_feature_guard.cc:193] This TensorFlow binary is optimized with oneAPI Deep Neural Network Library (oneDNN) to use the following CPU instructions in performance-critical operations:  AVX2 FMA\n",
      "To enable them in other operations, rebuild TensorFlow with the appropriate compiler flags.\n",
      "2022-12-15 17:14:02.349281: E tensorflow/stream_executor/cuda/cuda_blas.cc:2981] Unable to register cuBLAS factory: Attempting to register factory for plugin cuBLAS when one has already been registered\n",
      "2022-12-15 17:14:02.784874: W tensorflow/stream_executor/platform/default/dso_loader.cc:64] Could not load dynamic library 'libnvinfer.so.7'; dlerror: libnvinfer.so.7: cannot open shared object file: No such file or directory\n",
      "2022-12-15 17:14:02.784914: W tensorflow/stream_executor/platform/default/dso_loader.cc:64] Could not load dynamic library 'libnvinfer_plugin.so.7'; dlerror: libnvinfer_plugin.so.7: cannot open shared object file: No such file or directory\n",
      "2022-12-15 17:14:02.784918: W tensorflow/compiler/tf2tensorrt/utils/py_utils.cc:38] TF-TRT Warning: Cannot dlopen some TensorRT libraries. If you would like to use Nvidia GPU with TensorRT, please make sure the missing libraries mentioned above are installed properly.\n"
     ]
    }
   ],
   "source": [
    "import os\n",
    "\n",
    "import matplotlib.pyplot as plt\n",
    "import numpy as np\n",
    "import tensorflow as tf\n",
    "import tensorflow_gnn as tfgnn\n",
    "from tensorflow_gnn.models import gcn\n",
    "from tensorflow_gnn.models import graph_sage\n",
    "from google.protobuf import text_format\n",
    "import tensorflow_gnn.proto.graph_schema_pb2 as schema_pb2"
   ]
  },
  {
   "cell_type": "code",
   "execution_count": 3,
   "metadata": {},
   "outputs": [],
   "source": [
    "train_path = \"./mutag/train.tfrecords\"\n",
    "test_path = \"./mutag/val.tfrecords\""
   ]
  },
  {
   "cell_type": "markdown",
   "metadata": {},
   "source": [
    "# Data Preprocessing"
   ]
  },
  {
   "cell_type": "code",
   "execution_count": 4,
   "metadata": {},
   "outputs": [],
   "source": [
    "schema_pbtx = \"\"\"\n",
    "# proto-file: //third_party/py/tensorflow_gnn/proto/graph_schema.proto\n",
    "# proto-message: tensorflow_gnn.GraphSchema\n",
    "context {\n",
    "  features {\n",
    "    key: \"label\"\n",
    "    value: {\n",
    "      description: \"compound mutagenicity.\"\n",
    "      dtype: DT_INT32\n",
    "    }\n",
    "  }\n",
    "}\n",
    "node_sets {\n",
    "  key: \"atoms\"\n",
    "  value {\n",
    "    features {\n",
    "      key: \"hidden_state\"\n",
    "      value {\n",
    "        description: \"atom type.\"\n",
    "        dtype: DT_FLOAT\n",
    "        shape { dim { size: 7 } }\n",
    "      }\n",
    "    }\n",
    "  }\n",
    "}\n",
    "edge_sets {\n",
    "  key: \"bonds\"\n",
    "  value {\n",
    "    source: \"atoms\"\n",
    "    target: \"atoms\"\n",
    "    features {\n",
    "      key: \"hidden_state\"\n",
    "      value {\n",
    "        description: \"bond type.\"\n",
    "        dtype: DT_FLOAT\n",
    "        shape { dim { size: 4 } }\n",
    "      }\n",
    "    }\n",
    "  }\n",
    "}\n",
    "\"\"\"\n",
    "graph_schema = text_format.Merge(schema_pbtx, schema_pb2.GraphSchema())\n",
    "graph_tensor_spec = tfgnn.create_graph_spec_from_schema_pb(graph_schema)\n",
    "def decode_fn(record_bytes):  \n",
    "    graph = tfgnn.parse_single_example(\n",
    "      graph_tensor_spec, record_bytes, validate=True)\n",
    "\n",
    "    # extract label from context and remove from input graph\n",
    "    context_features = graph.context.get_features_dict()\n",
    "    label = context_features.pop('label')\n",
    "    new_graph = graph.replace_features(context=context_features)\n",
    "\n",
    "    return new_graph, label"
   ]
  },
  {
   "cell_type": "code",
   "execution_count": 5,
   "metadata": {},
   "outputs": [
    {
     "name": "stderr",
     "output_type": "stream",
     "text": [
      "2022-12-15 17:14:03.607740: I tensorflow/stream_executor/cuda/cuda_gpu_executor.cc:980] successful NUMA node read from SysFS had negative value (-1), but there must be at least one NUMA node, so returning NUMA node zero\n",
      "2022-12-15 17:14:03.608513: I tensorflow/stream_executor/cuda/cuda_gpu_executor.cc:980] successful NUMA node read from SysFS had negative value (-1), but there must be at least one NUMA node, so returning NUMA node zero\n",
      "2022-12-15 17:14:03.613927: W tensorflow/stream_executor/platform/default/dso_loader.cc:64] Could not load dynamic library 'libcudnn.so.8'; dlerror: libcudnn.so.8: cannot open shared object file: No such file or directory\n",
      "2022-12-15 17:14:03.613939: W tensorflow/core/common_runtime/gpu/gpu_device.cc:1934] Cannot dlopen some GPU libraries. Please make sure the missing libraries mentioned above are installed properly if you would like to use GPU. Follow the guide at https://www.tensorflow.org/install/gpu for how to download and setup the required libraries for your platform.\n",
      "Skipping registering GPU devices...\n",
      "2022-12-15 17:14:03.614681: I tensorflow/core/platform/cpu_feature_guard.cc:193] This TensorFlow binary is optimized with oneAPI Deep Neural Network Library (oneDNN) to use the following CPU instructions in performance-critical operations:  AVX2 FMA\n",
      "To enable them in other operations, rebuild TensorFlow with the appropriate compiler flags.\n"
     ]
    }
   ],
   "source": [
    "train_ds = tf.data.TFRecordDataset([train_path]).map(decode_fn)\n",
    "test_ds = tf.data.TFRecordDataset([test_path]).map(decode_fn)"
   ]
  },
  {
   "cell_type": "code",
   "execution_count": 6,
   "metadata": {},
   "outputs": [],
   "source": [
    "batch_size = 32 #@param {type:\"integer\"}\n",
    "\n",
    "train_ds_batched = train_ds.batch(batch_size=batch_size).repeat()\n",
    "test_ds_batched = test_ds.batch(batch_size=batch_size)"
   ]
  },
  {
   "cell_type": "markdown",
   "metadata": {},
   "source": [
    "# Build the GNN model"
   ]
  },
  {
   "cell_type": "code",
   "execution_count": 7,
   "metadata": {},
   "outputs": [],
   "source": [
    "graph_convolution_type = \"gcn\" #@param [\"default\", \"gcn\", \"graph_sage\"] \n",
    "\n",
    "def _build_model(\n",
    "    graph_tensor_spec,\n",
    "    # Dimensions of initial states.\n",
    "    node_dim=16,\n",
    "    edge_dim=16,\n",
    "    # Dimensions for message passing.\n",
    "    message_dim=64,\n",
    "    next_state_dim=64,\n",
    "    # Dimension for the logits.\n",
    "    num_classes=2,\n",
    "    # Number of message passing steps.\n",
    "    num_message_passing=3, #3, 5, 2\n",
    "    # Other hyperparameters.\n",
    "    l2_regularization=5e-4,\n",
    "    dropout_rate=0.1,\n",
    "):\n",
    "\n",
    "    input_graph = tf.keras.layers.Input(type_spec=graph_tensor_spec)\n",
    "    graph = input_graph.merge_batch_to_components()\n",
    "\n",
    "\n",
    "    def set_initial_node_state(node_set, *, node_set_name):\n",
    "        # Since we only have one node set, we can ignore node_set_name.\n",
    "        return tf.keras.layers.Dense(node_dim)(node_set[tfgnn.HIDDEN_STATE])\n",
    "    def set_initial_edge_state(edge_set, *, edge_set_name):\n",
    "        if graph_convolution_type != \"default\":\n",
    "            return {}\n",
    "        return tf.keras.layers.Dense(edge_dim)(edge_set[tfgnn.HIDDEN_STATE])\n",
    "\n",
    "    graph = tfgnn.keras.layers.MapFeatures(\n",
    "        node_sets_fn=set_initial_node_state, edge_sets_fn=set_initial_edge_state)(\n",
    "        graph)\n",
    "\n",
    "    num_atoms = tf.expand_dims(tf.cast(graph.node_sets[\"atoms\"].sizes, dtype=tf.float32), axis=-1)\n",
    "    num_bonds = tf.expand_dims(tf.cast(graph.edge_sets[\"bonds\"].sizes, dtype=tf.float32), axis=-1)\n",
    "    graph = graph.replace_features(\n",
    "        context={\n",
    "          tfgnn.HIDDEN_STATE: tf.concat([num_atoms, num_bonds], axis=1)\n",
    "        })\n",
    " \n",
    "    def dense(units, activation=\"relu\"):\n",
    "        \"\"\"A Dense layer with regularization (L2 and Dropout).\"\"\"\n",
    "        regularizer = tf.keras.regularizers.l2(l2_regularization)\n",
    "        return tf.keras.Sequential([\n",
    "            tf.keras.layers.Dense(\n",
    "                units,\n",
    "                activation=activation,\n",
    "                kernel_regularizer=regularizer,\n",
    "                bias_regularizer=regularizer),\n",
    "            tf.keras.layers.Dropout(dropout_rate)\n",
    "        ])\n",
    "\n",
    "    for i in range(num_message_passing):\n",
    "        if graph_convolution_type == \"default\":\n",
    "            graph = tfgnn.keras.layers.GraphUpdate(\n",
    "            node_sets={\n",
    "                \"atoms\": tfgnn.keras.layers.NodeSetUpdate(\n",
    "                    {\"bonds\": tfgnn.keras.layers.SimpleConv(\n",
    "                        sender_edge_feature=tfgnn.HIDDEN_STATE,\n",
    "                        message_fn=dense(message_dim),\n",
    "                        reduce_type=\"sum\",\n",
    "                        receiver_tag=tfgnn.TARGET)},\n",
    "                    tfgnn.keras.layers.NextStateFromConcat(dense(next_state_dim)))},\n",
    "            )(graph)\n",
    "        elif graph_convolution_type == \"gcn\":\n",
    "            graph = gcn.GCNHomGraphUpdate(\n",
    "                units= message_dim,\n",
    "                name= graph_convolution_type +\"_layer_\" + str(i))(graph)\n",
    "        elif graph_convolution_type == \"graph_sage\":\n",
    "            graph = graph_sage.GraphSAGEGraphUpdate(\n",
    "                node_set_names=[\"atoms\"],\n",
    "                receiver_tag=tfgnn.TARGET,\n",
    "                reduce_type=\"sum\",\n",
    "                use_pooling=True,\n",
    "                use_bias=False,\n",
    "                dropout_rate=dropout_rate,\n",
    "                units=message_dim,\n",
    "                hidden_units=message_dim * 2,\n",
    "                l2_normalize=True,\n",
    "                combine_type=\"sum\",\n",
    "                activation=\"relu\",\n",
    "                name=\"gsage_layer_\" + str(i))(graph)\n",
    "\n",
    "    readout_features = tfgnn.keras.layers.Pool(\n",
    "        tfgnn.CONTEXT, \"mean\", node_set_name=\"atoms\")(graph)\n",
    "    \n",
    "    feat = tf.concat([readout_features, graph.context[tfgnn.HIDDEN_STATE]], axis=1)\n",
    "\n",
    "    logits = tf.keras.layers.Dense(1)(feat)\n",
    "\n",
    "    # Build a Keras Model for the transformation from input_graph to logits.\n",
    "    return tf.keras.Model(inputs=[input_graph], outputs=[logits])"
   ]
  },
  {
   "cell_type": "markdown",
   "metadata": {},
   "source": [
    "### Define Loss and Metrics"
   ]
  },
  {
   "cell_type": "code",
   "execution_count": 8,
   "metadata": {},
   "outputs": [
    {
     "name": "stdout",
     "output_type": "stream",
     "text": [
      "WARNING:tensorflow:Mapping types may not work well with tf.nest. Prefer using MutableMapping for <class 'tensorflow_gnn.graph.graph_tensor._ImmutableMapping'>\n",
      "WARNING:tensorflow:Mapping types may not work well with tf.nest. Prefer using MutableMapping for <class 'tensorflow_gnn.graph.graph_tensor._ImmutableMapping'>\n",
      "WARNING:tensorflow:Mapping types may not work well with tf.nest. Prefer using MutableMapping for <class 'tensorflow_gnn.graph.graph_tensor._ImmutableMapping'>\n",
      "WARNING:tensorflow:AutoGraph could not transform <function check_scalar_graph_piece at 0x7f2368075700> and will run it as-is.\n",
      "Please report this to the TensorFlow team. When filing the bug, set the verbosity to 10 (on Linux, `export AUTOGRAPH_VERBOSITY=10`) and attach the full output.\n",
      "Cause: annotated name 'piece_name' can't be nonlocal (__autograph_generated_filevtm_7oqr.py, line 18)\n",
      "To silence this warning, decorate the function with @tf.autograph.experimental.do_not_convert\n",
      "WARNING: AutoGraph could not transform <function check_scalar_graph_piece at 0x7f2368075700> and will run it as-is.\n",
      "Please report this to the TensorFlow team. When filing the bug, set the verbosity to 10 (on Linux, `export AUTOGRAPH_VERBOSITY=10`) and attach the full output.\n",
      "Cause: annotated name 'piece_name' can't be nonlocal (__autograph_generated_filevtm_7oqr.py, line 18)\n",
      "To silence this warning, decorate the function with @tf.autograph.experimental.do_not_convert\n"
     ]
    }
   ],
   "source": [
    "node_dim = 16 #@param {type:\"integer\"}\n",
    "edge_dim = 16 #@param {type:\"integer\"}\n",
    "message_dim = 64 #@param {type:\"integer\"}\n",
    "next_state_dim = 64 #@param {type:\"integer\"}\n",
    "num_classes = 2 #@param {type:\"integer\"}\n",
    "num_message_passing = 3 #@param {type:\"integer\"}\n",
    "l2_regularization = 5e-4 #@param {type:\"number\"}\n",
    "dropout_rate = 0.5 #@param {type:\"number\"}\n",
    "\n",
    "model_input_graph_spec, label_spec = train_ds.element_spec\n",
    "del label_spec # Unused.\n",
    "model = _build_model(model_input_graph_spec,\n",
    "                     node_dim=node_dim,\n",
    "                     edge_dim=edge_dim,\n",
    "                     message_dim=message_dim,\n",
    "                     next_state_dim=next_state_dim,\n",
    "                     num_classes=num_classes,\n",
    "                     num_message_passing=num_message_passing,\n",
    "                     l2_regularization=l2_regularization,\n",
    "                     dropout_rate=dropout_rate)"
   ]
  },
  {
   "cell_type": "code",
   "execution_count": 9,
   "metadata": {},
   "outputs": [
    {
     "data": {
      "text/plain": [
       "(GraphTensorSpec({'context': ContextSpec({'features': {}, 'sizes': TensorSpec(shape=(1,), dtype=tf.int32, name=None)}, TensorShape([]), tf.int32, None), 'node_sets': {'atoms': NodeSetSpec({'features': {'hidden_state': TensorSpec(shape=(None, 7), dtype=tf.float32, name=None)}, 'sizes': TensorSpec(shape=(1,), dtype=tf.int32, name=None)}, TensorShape([]), tf.int32, None)}, 'edge_sets': {'bonds': EdgeSetSpec({'features': {'hidden_state': TensorSpec(shape=(None, 4), dtype=tf.float32, name=None)}, 'sizes': TensorSpec(shape=(1,), dtype=tf.int32, name=None), 'adjacency': AdjacencySpec({'#index.0': TensorSpec(shape=(None,), dtype=tf.int32, name=None), '#index.1': TensorSpec(shape=(None,), dtype=tf.int32, name=None)}, TensorShape([]), tf.int32, {'#index.0': 'atoms', '#index.1': 'atoms'})}, TensorShape([]), tf.int32, None)}}, TensorShape([]), tf.int32, None),\n",
       " TensorSpec(shape=(1,), dtype=tf.int32, name=None))"
      ]
     },
     "execution_count": 9,
     "metadata": {},
     "output_type": "execute_result"
    }
   ],
   "source": [
    "train_ds.element_spec"
   ]
  },
  {
   "cell_type": "code",
   "execution_count": 10,
   "metadata": {},
   "outputs": [],
   "source": [
    "loss = tf.keras.losses.BinaryCrossentropy(from_logits=True)\n",
    "metrics = [tf.keras.metrics.BinaryAccuracy(threshold=0.),\n",
    "            tf.keras.metrics.BinaryCrossentropy(from_logits=True)]"
   ]
  },
  {
   "cell_type": "markdown",
   "metadata": {},
   "source": [
    "## Compile the keras model"
   ]
  },
  {
   "cell_type": "code",
   "execution_count": 11,
   "metadata": {},
   "outputs": [],
   "source": [
    "learning_rate = 1e-4 #@param {type:\"number\"}\n",
    "learning_rate_decay = True #@param {type:\"boolean\"}\n",
    "steps_per_epoch = 10 #@param {type:\"integer\"}\n",
    "epochs = 200 #@param {type:\"integer\"}\n",
    "\n",
    "if learning_rate_decay:\n",
    "    learning_rate = tf.keras.optimizers.schedules.CosineDecay(learning_rate, steps_per_epoch*epochs)\n",
    "\n",
    "optimizer = tf.keras.optimizers.Adagrad(learning_rate=learning_rate)\n",
    "\n",
    "model.compile(optimizer, loss=loss, metrics=metrics)"
   ]
  },
  {
   "cell_type": "markdown",
   "metadata": {},
   "source": [
    "## Training "
   ]
  },
  {
   "cell_type": "code",
   "execution_count": 12,
   "metadata": {},
   "outputs": [
    {
     "name": "stdout",
     "output_type": "stream",
     "text": [
      "Epoch 1/200\n"
     ]
    },
    {
     "name": "stderr",
     "output_type": "stream",
     "text": [
      "/home/yining/anaconda3/lib/python3.8/site-packages/tensorflow/python/framework/indexed_slices.py:444: UserWarning: Converting sparse IndexedSlices(IndexedSlices(indices=Tensor(\"gradient_tape/model/gcn_layer_2/node_set_update/gcn_conv/Reshape_2:0\", shape=(None,), dtype=int32), values=Tensor(\"gradient_tape/model/gcn_layer_2/node_set_update/gcn_conv/Reshape_1:0\", shape=(None, 64), dtype=float32), dense_shape=Tensor(\"gradient_tape/model/gcn_layer_2/node_set_update/gcn_conv/Cast:0\", shape=(2,), dtype=int32))) to a dense Tensor of unknown shape. This may consume a large amount of memory.\n",
      "  warnings.warn(\n",
      "/home/yining/anaconda3/lib/python3.8/site-packages/tensorflow/python/framework/indexed_slices.py:444: UserWarning: Converting sparse IndexedSlices(IndexedSlices(indices=Tensor(\"gradient_tape/model/gcn_layer_1/node_set_update/gcn_conv/Reshape_2:0\", shape=(None,), dtype=int32), values=Tensor(\"gradient_tape/model/gcn_layer_1/node_set_update/gcn_conv/Reshape_1:0\", shape=(None, 64), dtype=float32), dense_shape=Tensor(\"gradient_tape/model/gcn_layer_1/node_set_update/gcn_conv/Cast:0\", shape=(2,), dtype=int32))) to a dense Tensor of unknown shape. This may consume a large amount of memory.\n",
      "  warnings.warn(\n",
      "/home/yining/anaconda3/lib/python3.8/site-packages/tensorflow/python/framework/indexed_slices.py:444: UserWarning: Converting sparse IndexedSlices(IndexedSlices(indices=Tensor(\"gradient_tape/model/gcn_layer_0/node_set_update/gcn_conv/Reshape_2:0\", shape=(None,), dtype=int32), values=Tensor(\"gradient_tape/model/gcn_layer_0/node_set_update/gcn_conv/Reshape_1:0\", shape=(None, 16), dtype=float32), dense_shape=Tensor(\"gradient_tape/model/gcn_layer_0/node_set_update/gcn_conv/Cast:0\", shape=(2,), dtype=int32))) to a dense Tensor of unknown shape. This may consume a large amount of memory.\n",
      "  warnings.warn(\n"
     ]
    },
    {
     "name": "stdout",
     "output_type": "stream",
     "text": [
      "10/10 [==============================] - 1s 68ms/step - loss: 1.0622 - binary_accuracy: 0.3600 - binary_crossentropy: 1.0622 - val_loss: 1.1552 - val_binary_accuracy: 0.2368 - val_binary_crossentropy: 1.1552\n",
      "Epoch 2/200\n",
      "10/10 [==============================] - 0s 10ms/step - loss: 1.0511 - binary_accuracy: 0.3600 - binary_crossentropy: 1.0511 - val_loss: 1.1449 - val_binary_accuracy: 0.2368 - val_binary_crossentropy: 1.1449\n",
      "Epoch 3/200\n",
      "10/10 [==============================] - 0s 10ms/step - loss: 1.0436 - binary_accuracy: 0.3600 - binary_crossentropy: 1.0436 - val_loss: 1.1367 - val_binary_accuracy: 0.2368 - val_binary_crossentropy: 1.1367\n",
      "Epoch 4/200\n",
      "10/10 [==============================] - 0s 10ms/step - loss: 1.0374 - binary_accuracy: 0.3600 - binary_crossentropy: 1.0374 - val_loss: 1.1297 - val_binary_accuracy: 0.2368 - val_binary_crossentropy: 1.1297\n",
      "Epoch 5/200\n",
      "10/10 [==============================] - 0s 10ms/step - loss: 1.0320 - binary_accuracy: 0.3600 - binary_crossentropy: 1.0320 - val_loss: 1.1234 - val_binary_accuracy: 0.2368 - val_binary_crossentropy: 1.1234\n",
      "Epoch 6/200\n",
      "10/10 [==============================] - 0s 10ms/step - loss: 1.0272 - binary_accuracy: 0.3600 - binary_crossentropy: 1.0272 - val_loss: 1.1177 - val_binary_accuracy: 0.2368 - val_binary_crossentropy: 1.1177\n",
      "Epoch 7/200\n",
      "10/10 [==============================] - 0s 10ms/step - loss: 1.0227 - binary_accuracy: 0.3600 - binary_crossentropy: 1.0227 - val_loss: 1.1124 - val_binary_accuracy: 0.2368 - val_binary_crossentropy: 1.1124\n",
      "Epoch 8/200\n",
      "10/10 [==============================] - 0s 10ms/step - loss: 1.0186 - binary_accuracy: 0.3600 - binary_crossentropy: 1.0186 - val_loss: 1.1075 - val_binary_accuracy: 0.2368 - val_binary_crossentropy: 1.1075\n",
      "Epoch 9/200\n",
      "10/10 [==============================] - 0s 10ms/step - loss: 1.0148 - binary_accuracy: 0.3600 - binary_crossentropy: 1.0148 - val_loss: 1.1028 - val_binary_accuracy: 0.2368 - val_binary_crossentropy: 1.1028\n",
      "Epoch 10/200\n",
      "10/10 [==============================] - 0s 10ms/step - loss: 1.0112 - binary_accuracy: 0.3600 - binary_crossentropy: 1.0112 - val_loss: 1.0984 - val_binary_accuracy: 0.2368 - val_binary_crossentropy: 1.0984\n",
      "Epoch 11/200\n",
      "10/10 [==============================] - 0s 10ms/step - loss: 1.0077 - binary_accuracy: 0.3600 - binary_crossentropy: 1.0077 - val_loss: 1.0942 - val_binary_accuracy: 0.2368 - val_binary_crossentropy: 1.0942\n",
      "Epoch 12/200\n",
      "10/10 [==============================] - 0s 10ms/step - loss: 1.0045 - binary_accuracy: 0.3600 - binary_crossentropy: 1.0045 - val_loss: 1.0902 - val_binary_accuracy: 0.2368 - val_binary_crossentropy: 1.0902\n",
      "Epoch 13/200\n",
      "10/10 [==============================] - 0s 10ms/step - loss: 1.0013 - binary_accuracy: 0.3600 - binary_crossentropy: 1.0013 - val_loss: 1.0864 - val_binary_accuracy: 0.2368 - val_binary_crossentropy: 1.0864\n",
      "Epoch 14/200\n",
      "10/10 [==============================] - 0s 10ms/step - loss: 0.9983 - binary_accuracy: 0.3600 - binary_crossentropy: 0.9983 - val_loss: 1.0827 - val_binary_accuracy: 0.2368 - val_binary_crossentropy: 1.0827\n",
      "Epoch 15/200\n",
      "10/10 [==============================] - 0s 10ms/step - loss: 0.9954 - binary_accuracy: 0.3600 - binary_crossentropy: 0.9954 - val_loss: 1.0791 - val_binary_accuracy: 0.2368 - val_binary_crossentropy: 1.0791\n",
      "Epoch 16/200\n",
      "10/10 [==============================] - 0s 10ms/step - loss: 0.9926 - binary_accuracy: 0.3600 - binary_crossentropy: 0.9926 - val_loss: 1.0757 - val_binary_accuracy: 0.2368 - val_binary_crossentropy: 1.0757\n",
      "Epoch 17/200\n",
      "10/10 [==============================] - 0s 10ms/step - loss: 0.9899 - binary_accuracy: 0.3600 - binary_crossentropy: 0.9899 - val_loss: 1.0723 - val_binary_accuracy: 0.2368 - val_binary_crossentropy: 1.0723\n",
      "Epoch 18/200\n",
      "10/10 [==============================] - 0s 10ms/step - loss: 0.9873 - binary_accuracy: 0.3600 - binary_crossentropy: 0.9873 - val_loss: 1.0690 - val_binary_accuracy: 0.2368 - val_binary_crossentropy: 1.0690\n",
      "Epoch 19/200\n",
      "10/10 [==============================] - 0s 10ms/step - loss: 0.9847 - binary_accuracy: 0.3600 - binary_crossentropy: 0.9847 - val_loss: 1.0658 - val_binary_accuracy: 0.2368 - val_binary_crossentropy: 1.0658\n",
      "Epoch 20/200\n",
      "10/10 [==============================] - 0s 10ms/step - loss: 0.9822 - binary_accuracy: 0.3600 - binary_crossentropy: 0.9822 - val_loss: 1.0627 - val_binary_accuracy: 0.2368 - val_binary_crossentropy: 1.0627\n",
      "Epoch 21/200\n",
      "10/10 [==============================] - 0s 10ms/step - loss: 0.9798 - binary_accuracy: 0.3600 - binary_crossentropy: 0.9798 - val_loss: 1.0596 - val_binary_accuracy: 0.2368 - val_binary_crossentropy: 1.0596\n",
      "Epoch 22/200\n",
      "10/10 [==============================] - 0s 10ms/step - loss: 0.9775 - binary_accuracy: 0.3600 - binary_crossentropy: 0.9775 - val_loss: 1.0567 - val_binary_accuracy: 0.2368 - val_binary_crossentropy: 1.0567\n",
      "Epoch 23/200\n",
      "10/10 [==============================] - 0s 10ms/step - loss: 0.9752 - binary_accuracy: 0.3600 - binary_crossentropy: 0.9752 - val_loss: 1.0538 - val_binary_accuracy: 0.2368 - val_binary_crossentropy: 1.0538\n",
      "Epoch 24/200\n",
      "10/10 [==============================] - 0s 10ms/step - loss: 0.9730 - binary_accuracy: 0.3600 - binary_crossentropy: 0.9730 - val_loss: 1.0510 - val_binary_accuracy: 0.2368 - val_binary_crossentropy: 1.0510\n",
      "Epoch 25/200\n",
      "10/10 [==============================] - 0s 10ms/step - loss: 0.9708 - binary_accuracy: 0.3600 - binary_crossentropy: 0.9708 - val_loss: 1.0483 - val_binary_accuracy: 0.2368 - val_binary_crossentropy: 1.0483\n",
      "Epoch 26/200\n",
      "10/10 [==============================] - 0s 9ms/step - loss: 0.9687 - binary_accuracy: 0.3600 - binary_crossentropy: 0.9687 - val_loss: 1.0456 - val_binary_accuracy: 0.2368 - val_binary_crossentropy: 1.0456\n",
      "Epoch 27/200\n",
      "10/10 [==============================] - 0s 10ms/step - loss: 0.9666 - binary_accuracy: 0.3600 - binary_crossentropy: 0.9666 - val_loss: 1.0430 - val_binary_accuracy: 0.2368 - val_binary_crossentropy: 1.0430\n",
      "Epoch 28/200\n",
      "10/10 [==============================] - 0s 10ms/step - loss: 0.9646 - binary_accuracy: 0.3600 - binary_crossentropy: 0.9646 - val_loss: 1.0404 - val_binary_accuracy: 0.2368 - val_binary_crossentropy: 1.0404\n",
      "Epoch 29/200\n",
      "10/10 [==============================] - 0s 10ms/step - loss: 0.9626 - binary_accuracy: 0.3600 - binary_crossentropy: 0.9626 - val_loss: 1.0379 - val_binary_accuracy: 0.2368 - val_binary_crossentropy: 1.0379\n",
      "Epoch 30/200\n",
      "10/10 [==============================] - 0s 10ms/step - loss: 0.9607 - binary_accuracy: 0.3600 - binary_crossentropy: 0.9607 - val_loss: 1.0355 - val_binary_accuracy: 0.2368 - val_binary_crossentropy: 1.0355\n",
      "Epoch 31/200\n",
      "10/10 [==============================] - 0s 10ms/step - loss: 0.9588 - binary_accuracy: 0.3600 - binary_crossentropy: 0.9588 - val_loss: 1.0331 - val_binary_accuracy: 0.2368 - val_binary_crossentropy: 1.0331\n",
      "Epoch 32/200\n",
      "10/10 [==============================] - 0s 10ms/step - loss: 0.9569 - binary_accuracy: 0.3600 - binary_crossentropy: 0.9569 - val_loss: 1.0308 - val_binary_accuracy: 0.2368 - val_binary_crossentropy: 1.0308\n",
      "Epoch 33/200\n",
      "10/10 [==============================] - 0s 10ms/step - loss: 0.9551 - binary_accuracy: 0.3600 - binary_crossentropy: 0.9551 - val_loss: 1.0285 - val_binary_accuracy: 0.2368 - val_binary_crossentropy: 1.0285\n",
      "Epoch 34/200\n",
      "10/10 [==============================] - 0s 10ms/step - loss: 0.9534 - binary_accuracy: 0.3600 - binary_crossentropy: 0.9534 - val_loss: 1.0262 - val_binary_accuracy: 0.2368 - val_binary_crossentropy: 1.0262\n",
      "Epoch 35/200\n",
      "10/10 [==============================] - 0s 10ms/step - loss: 0.9516 - binary_accuracy: 0.3600 - binary_crossentropy: 0.9516 - val_loss: 1.0240 - val_binary_accuracy: 0.2368 - val_binary_crossentropy: 1.0240\n",
      "Epoch 36/200\n",
      "10/10 [==============================] - 0s 10ms/step - loss: 0.9499 - binary_accuracy: 0.3600 - binary_crossentropy: 0.9499 - val_loss: 1.0218 - val_binary_accuracy: 0.2368 - val_binary_crossentropy: 1.0218\n",
      "Epoch 37/200\n",
      "10/10 [==============================] - 0s 10ms/step - loss: 0.9482 - binary_accuracy: 0.3600 - binary_crossentropy: 0.9482 - val_loss: 1.0196 - val_binary_accuracy: 0.2368 - val_binary_crossentropy: 1.0196\n",
      "Epoch 38/200\n"
     ]
    },
    {
     "name": "stdout",
     "output_type": "stream",
     "text": [
      "10/10 [==============================] - 0s 10ms/step - loss: 0.9465 - binary_accuracy: 0.3600 - binary_crossentropy: 0.9465 - val_loss: 1.0175 - val_binary_accuracy: 0.2368 - val_binary_crossentropy: 1.0175\n",
      "Epoch 39/200\n",
      "10/10 [==============================] - 0s 10ms/step - loss: 0.9449 - binary_accuracy: 0.3600 - binary_crossentropy: 0.9449 - val_loss: 1.0154 - val_binary_accuracy: 0.2368 - val_binary_crossentropy: 1.0154\n",
      "Epoch 40/200\n",
      "10/10 [==============================] - 0s 10ms/step - loss: 0.9433 - binary_accuracy: 0.3600 - binary_crossentropy: 0.9433 - val_loss: 1.0134 - val_binary_accuracy: 0.2368 - val_binary_crossentropy: 1.0134\n",
      "Epoch 41/200\n",
      "10/10 [==============================] - 0s 10ms/step - loss: 0.9418 - binary_accuracy: 0.3600 - binary_crossentropy: 0.9418 - val_loss: 1.0114 - val_binary_accuracy: 0.2368 - val_binary_crossentropy: 1.0114\n",
      "Epoch 42/200\n",
      "10/10 [==============================] - 0s 10ms/step - loss: 0.9402 - binary_accuracy: 0.3600 - binary_crossentropy: 0.9402 - val_loss: 1.0094 - val_binary_accuracy: 0.2368 - val_binary_crossentropy: 1.0094\n",
      "Epoch 43/200\n",
      "10/10 [==============================] - 0s 10ms/step - loss: 0.9387 - binary_accuracy: 0.3600 - binary_crossentropy: 0.9387 - val_loss: 1.0075 - val_binary_accuracy: 0.2368 - val_binary_crossentropy: 1.0075\n",
      "Epoch 44/200\n",
      "10/10 [==============================] - 0s 10ms/step - loss: 0.9373 - binary_accuracy: 0.3600 - binary_crossentropy: 0.9373 - val_loss: 1.0056 - val_binary_accuracy: 0.2368 - val_binary_crossentropy: 1.0056\n",
      "Epoch 45/200\n",
      "10/10 [==============================] - 0s 10ms/step - loss: 0.9358 - binary_accuracy: 0.3600 - binary_crossentropy: 0.9358 - val_loss: 1.0037 - val_binary_accuracy: 0.2368 - val_binary_crossentropy: 1.0037\n",
      "Epoch 46/200\n",
      "10/10 [==============================] - 0s 10ms/step - loss: 0.9344 - binary_accuracy: 0.3600 - binary_crossentropy: 0.9344 - val_loss: 1.0019 - val_binary_accuracy: 0.2368 - val_binary_crossentropy: 1.0019\n",
      "Epoch 47/200\n",
      "10/10 [==============================] - 0s 10ms/step - loss: 0.9330 - binary_accuracy: 0.3600 - binary_crossentropy: 0.9330 - val_loss: 1.0001 - val_binary_accuracy: 0.2368 - val_binary_crossentropy: 1.0001\n",
      "Epoch 48/200\n",
      "10/10 [==============================] - 0s 10ms/step - loss: 0.9317 - binary_accuracy: 0.3600 - binary_crossentropy: 0.9317 - val_loss: 0.9984 - val_binary_accuracy: 0.2368 - val_binary_crossentropy: 0.9984\n",
      "Epoch 49/200\n",
      "10/10 [==============================] - 0s 10ms/step - loss: 0.9303 - binary_accuracy: 0.3600 - binary_crossentropy: 0.9303 - val_loss: 0.9966 - val_binary_accuracy: 0.2368 - val_binary_crossentropy: 0.9966\n",
      "Epoch 50/200\n",
      "10/10 [==============================] - 0s 10ms/step - loss: 0.9290 - binary_accuracy: 0.3600 - binary_crossentropy: 0.9290 - val_loss: 0.9949 - val_binary_accuracy: 0.2368 - val_binary_crossentropy: 0.9949\n",
      "Epoch 51/200\n",
      "10/10 [==============================] - 0s 10ms/step - loss: 0.9277 - binary_accuracy: 0.3600 - binary_crossentropy: 0.9277 - val_loss: 0.9933 - val_binary_accuracy: 0.2368 - val_binary_crossentropy: 0.9933\n",
      "Epoch 52/200\n",
      "10/10 [==============================] - 0s 10ms/step - loss: 0.9264 - binary_accuracy: 0.3600 - binary_crossentropy: 0.9264 - val_loss: 0.9916 - val_binary_accuracy: 0.2368 - val_binary_crossentropy: 0.9916\n",
      "Epoch 53/200\n",
      "10/10 [==============================] - 0s 10ms/step - loss: 0.9252 - binary_accuracy: 0.3600 - binary_crossentropy: 0.9252 - val_loss: 0.9900 - val_binary_accuracy: 0.2368 - val_binary_crossentropy: 0.9900\n",
      "Epoch 54/200\n",
      "10/10 [==============================] - 0s 10ms/step - loss: 0.9240 - binary_accuracy: 0.3600 - binary_crossentropy: 0.9240 - val_loss: 0.9884 - val_binary_accuracy: 0.2368 - val_binary_crossentropy: 0.9884\n",
      "Epoch 55/200\n",
      "10/10 [==============================] - 0s 10ms/step - loss: 0.9227 - binary_accuracy: 0.3600 - binary_crossentropy: 0.9227 - val_loss: 0.9869 - val_binary_accuracy: 0.2368 - val_binary_crossentropy: 0.9869\n",
      "Epoch 56/200\n",
      "10/10 [==============================] - 0s 10ms/step - loss: 0.9216 - binary_accuracy: 0.3600 - binary_crossentropy: 0.9216 - val_loss: 0.9853 - val_binary_accuracy: 0.2368 - val_binary_crossentropy: 0.9853\n",
      "Epoch 57/200\n",
      "10/10 [==============================] - 0s 10ms/step - loss: 0.9204 - binary_accuracy: 0.3600 - binary_crossentropy: 0.9204 - val_loss: 0.9838 - val_binary_accuracy: 0.2368 - val_binary_crossentropy: 0.9838\n",
      "Epoch 58/200\n",
      "10/10 [==============================] - 0s 10ms/step - loss: 0.9192 - binary_accuracy: 0.3600 - binary_crossentropy: 0.9192 - val_loss: 0.9823 - val_binary_accuracy: 0.2368 - val_binary_crossentropy: 0.9823\n",
      "Epoch 59/200\n",
      "10/10 [==============================] - 0s 10ms/step - loss: 0.9181 - binary_accuracy: 0.3600 - binary_crossentropy: 0.9181 - val_loss: 0.9809 - val_binary_accuracy: 0.2368 - val_binary_crossentropy: 0.9809\n",
      "Epoch 60/200\n",
      "10/10 [==============================] - 0s 10ms/step - loss: 0.9170 - binary_accuracy: 0.3600 - binary_crossentropy: 0.9170 - val_loss: 0.9794 - val_binary_accuracy: 0.2368 - val_binary_crossentropy: 0.9794\n",
      "Epoch 61/200\n",
      "10/10 [==============================] - 0s 10ms/step - loss: 0.9159 - binary_accuracy: 0.3600 - binary_crossentropy: 0.9159 - val_loss: 0.9780 - val_binary_accuracy: 0.2368 - val_binary_crossentropy: 0.9780\n",
      "Epoch 62/200\n",
      "10/10 [==============================] - 0s 10ms/step - loss: 0.9149 - binary_accuracy: 0.3600 - binary_crossentropy: 0.9149 - val_loss: 0.9766 - val_binary_accuracy: 0.2368 - val_binary_crossentropy: 0.9766\n",
      "Epoch 63/200\n",
      "10/10 [==============================] - 0s 10ms/step - loss: 0.9138 - binary_accuracy: 0.3600 - binary_crossentropy: 0.9138 - val_loss: 0.9753 - val_binary_accuracy: 0.2368 - val_binary_crossentropy: 0.9753\n",
      "Epoch 64/200\n",
      "10/10 [==============================] - 0s 10ms/step - loss: 0.9128 - binary_accuracy: 0.3600 - binary_crossentropy: 0.9128 - val_loss: 0.9739 - val_binary_accuracy: 0.2368 - val_binary_crossentropy: 0.9739\n",
      "Epoch 65/200\n",
      "10/10 [==============================] - 0s 10ms/step - loss: 0.9118 - binary_accuracy: 0.3600 - binary_crossentropy: 0.9118 - val_loss: 0.9726 - val_binary_accuracy: 0.2368 - val_binary_crossentropy: 0.9726\n",
      "Epoch 66/200\n",
      "10/10 [==============================] - 0s 10ms/step - loss: 0.9108 - binary_accuracy: 0.3600 - binary_crossentropy: 0.9108 - val_loss: 0.9713 - val_binary_accuracy: 0.2368 - val_binary_crossentropy: 0.9713\n",
      "Epoch 67/200\n",
      "10/10 [==============================] - 0s 10ms/step - loss: 0.9098 - binary_accuracy: 0.3600 - binary_crossentropy: 0.9098 - val_loss: 0.9701 - val_binary_accuracy: 0.2368 - val_binary_crossentropy: 0.9701\n",
      "Epoch 68/200\n",
      "10/10 [==============================] - 0s 10ms/step - loss: 0.9088 - binary_accuracy: 0.3600 - binary_crossentropy: 0.9088 - val_loss: 0.9688 - val_binary_accuracy: 0.2368 - val_binary_crossentropy: 0.9688\n",
      "Epoch 69/200\n",
      "10/10 [==============================] - 0s 10ms/step - loss: 0.9079 - binary_accuracy: 0.3600 - binary_crossentropy: 0.9079 - val_loss: 0.9676 - val_binary_accuracy: 0.2368 - val_binary_crossentropy: 0.9676\n",
      "Epoch 70/200\n",
      "10/10 [==============================] - 0s 10ms/step - loss: 0.9070 - binary_accuracy: 0.3600 - binary_crossentropy: 0.9070 - val_loss: 0.9664 - val_binary_accuracy: 0.2368 - val_binary_crossentropy: 0.9664\n",
      "Epoch 71/200\n",
      "10/10 [==============================] - 0s 10ms/step - loss: 0.9060 - binary_accuracy: 0.3600 - binary_crossentropy: 0.9060 - val_loss: 0.9652 - val_binary_accuracy: 0.2368 - val_binary_crossentropy: 0.9652\n",
      "Epoch 72/200\n",
      "10/10 [==============================] - 0s 10ms/step - loss: 0.9051 - binary_accuracy: 0.3600 - binary_crossentropy: 0.9051 - val_loss: 0.9640 - val_binary_accuracy: 0.2368 - val_binary_crossentropy: 0.9640\n",
      "Epoch 73/200\n",
      "10/10 [==============================] - 0s 10ms/step - loss: 0.9043 - binary_accuracy: 0.3600 - binary_crossentropy: 0.9043 - val_loss: 0.9629 - val_binary_accuracy: 0.2368 - val_binary_crossentropy: 0.9629\n",
      "Epoch 74/200\n",
      "10/10 [==============================] - 0s 10ms/step - loss: 0.9034 - binary_accuracy: 0.3600 - binary_crossentropy: 0.9034 - val_loss: 0.9617 - val_binary_accuracy: 0.2368 - val_binary_crossentropy: 0.9617\n",
      "Epoch 75/200\n"
     ]
    },
    {
     "name": "stdout",
     "output_type": "stream",
     "text": [
      "10/10 [==============================] - 0s 10ms/step - loss: 0.9025 - binary_accuracy: 0.3600 - binary_crossentropy: 0.9025 - val_loss: 0.9606 - val_binary_accuracy: 0.2368 - val_binary_crossentropy: 0.9606\n",
      "Epoch 76/200\n",
      "10/10 [==============================] - 0s 10ms/step - loss: 0.9017 - binary_accuracy: 0.3600 - binary_crossentropy: 0.9017 - val_loss: 0.9595 - val_binary_accuracy: 0.2368 - val_binary_crossentropy: 0.9595\n",
      "Epoch 77/200\n",
      "10/10 [==============================] - 0s 10ms/step - loss: 0.9009 - binary_accuracy: 0.3600 - binary_crossentropy: 0.9009 - val_loss: 0.9585 - val_binary_accuracy: 0.2368 - val_binary_crossentropy: 0.9585\n",
      "Epoch 78/200\n",
      "10/10 [==============================] - 0s 10ms/step - loss: 0.9001 - binary_accuracy: 0.3600 - binary_crossentropy: 0.9001 - val_loss: 0.9574 - val_binary_accuracy: 0.2368 - val_binary_crossentropy: 0.9574\n",
      "Epoch 79/200\n",
      "10/10 [==============================] - 0s 10ms/step - loss: 0.8993 - binary_accuracy: 0.3600 - binary_crossentropy: 0.8993 - val_loss: 0.9564 - val_binary_accuracy: 0.2368 - val_binary_crossentropy: 0.9564\n",
      "Epoch 80/200\n",
      "10/10 [==============================] - 0s 10ms/step - loss: 0.8985 - binary_accuracy: 0.3600 - binary_crossentropy: 0.8985 - val_loss: 0.9554 - val_binary_accuracy: 0.2368 - val_binary_crossentropy: 0.9554\n",
      "Epoch 81/200\n",
      "10/10 [==============================] - 0s 10ms/step - loss: 0.8978 - binary_accuracy: 0.3600 - binary_crossentropy: 0.8978 - val_loss: 0.9544 - val_binary_accuracy: 0.2368 - val_binary_crossentropy: 0.9544\n",
      "Epoch 82/200\n",
      "10/10 [==============================] - 0s 10ms/step - loss: 0.8970 - binary_accuracy: 0.3600 - binary_crossentropy: 0.8970 - val_loss: 0.9534 - val_binary_accuracy: 0.2368 - val_binary_crossentropy: 0.9534\n",
      "Epoch 83/200\n",
      "10/10 [==============================] - 0s 10ms/step - loss: 0.8963 - binary_accuracy: 0.3600 - binary_crossentropy: 0.8963 - val_loss: 0.9525 - val_binary_accuracy: 0.2368 - val_binary_crossentropy: 0.9525\n",
      "Epoch 84/200\n",
      "10/10 [==============================] - 0s 10ms/step - loss: 0.8956 - binary_accuracy: 0.3600 - binary_crossentropy: 0.8956 - val_loss: 0.9515 - val_binary_accuracy: 0.2368 - val_binary_crossentropy: 0.9515\n",
      "Epoch 85/200\n",
      "10/10 [==============================] - 0s 10ms/step - loss: 0.8949 - binary_accuracy: 0.3600 - binary_crossentropy: 0.8949 - val_loss: 0.9506 - val_binary_accuracy: 0.2368 - val_binary_crossentropy: 0.9506\n",
      "Epoch 86/200\n",
      "10/10 [==============================] - 0s 10ms/step - loss: 0.8942 - binary_accuracy: 0.3600 - binary_crossentropy: 0.8942 - val_loss: 0.9497 - val_binary_accuracy: 0.2368 - val_binary_crossentropy: 0.9497\n",
      "Epoch 87/200\n",
      "10/10 [==============================] - 0s 10ms/step - loss: 0.8935 - binary_accuracy: 0.3600 - binary_crossentropy: 0.8935 - val_loss: 0.9488 - val_binary_accuracy: 0.2368 - val_binary_crossentropy: 0.9488\n",
      "Epoch 88/200\n",
      "10/10 [==============================] - 0s 10ms/step - loss: 0.8928 - binary_accuracy: 0.3600 - binary_crossentropy: 0.8928 - val_loss: 0.9479 - val_binary_accuracy: 0.2368 - val_binary_crossentropy: 0.9479\n",
      "Epoch 89/200\n",
      "10/10 [==============================] - 0s 10ms/step - loss: 0.8922 - binary_accuracy: 0.3600 - binary_crossentropy: 0.8922 - val_loss: 0.9471 - val_binary_accuracy: 0.2368 - val_binary_crossentropy: 0.9471\n",
      "Epoch 90/200\n",
      "10/10 [==============================] - 0s 10ms/step - loss: 0.8915 - binary_accuracy: 0.3600 - binary_crossentropy: 0.8915 - val_loss: 0.9462 - val_binary_accuracy: 0.2368 - val_binary_crossentropy: 0.9462\n",
      "Epoch 91/200\n",
      "10/10 [==============================] - 0s 10ms/step - loss: 0.8909 - binary_accuracy: 0.3600 - binary_crossentropy: 0.8909 - val_loss: 0.9454 - val_binary_accuracy: 0.2368 - val_binary_crossentropy: 0.9454\n",
      "Epoch 92/200\n",
      "10/10 [==============================] - 0s 10ms/step - loss: 0.8903 - binary_accuracy: 0.3600 - binary_crossentropy: 0.8903 - val_loss: 0.9446 - val_binary_accuracy: 0.2368 - val_binary_crossentropy: 0.9446\n",
      "Epoch 93/200\n",
      "10/10 [==============================] - 0s 10ms/step - loss: 0.8897 - binary_accuracy: 0.3600 - binary_crossentropy: 0.8897 - val_loss: 0.9438 - val_binary_accuracy: 0.2368 - val_binary_crossentropy: 0.9438\n",
      "Epoch 94/200\n",
      "10/10 [==============================] - 0s 10ms/step - loss: 0.8891 - binary_accuracy: 0.3600 - binary_crossentropy: 0.8891 - val_loss: 0.9431 - val_binary_accuracy: 0.2368 - val_binary_crossentropy: 0.9431\n",
      "Epoch 95/200\n",
      "10/10 [==============================] - 0s 10ms/step - loss: 0.8885 - binary_accuracy: 0.3600 - binary_crossentropy: 0.8885 - val_loss: 0.9423 - val_binary_accuracy: 0.2368 - val_binary_crossentropy: 0.9423\n",
      "Epoch 96/200\n",
      "10/10 [==============================] - 0s 10ms/step - loss: 0.8880 - binary_accuracy: 0.3600 - binary_crossentropy: 0.8880 - val_loss: 0.9416 - val_binary_accuracy: 0.2368 - val_binary_crossentropy: 0.9416\n",
      "Epoch 97/200\n",
      "10/10 [==============================] - 0s 10ms/step - loss: 0.8874 - binary_accuracy: 0.3600 - binary_crossentropy: 0.8874 - val_loss: 0.9408 - val_binary_accuracy: 0.2368 - val_binary_crossentropy: 0.9408\n",
      "Epoch 98/200\n",
      "10/10 [==============================] - 0s 9ms/step - loss: 0.8869 - binary_accuracy: 0.3600 - binary_crossentropy: 0.8869 - val_loss: 0.9401 - val_binary_accuracy: 0.2368 - val_binary_crossentropy: 0.9401\n",
      "Epoch 99/200\n",
      "10/10 [==============================] - 0s 10ms/step - loss: 0.8863 - binary_accuracy: 0.3600 - binary_crossentropy: 0.8863 - val_loss: 0.9394 - val_binary_accuracy: 0.2368 - val_binary_crossentropy: 0.9394\n",
      "Epoch 100/200\n",
      "10/10 [==============================] - 0s 10ms/step - loss: 0.8858 - binary_accuracy: 0.3600 - binary_crossentropy: 0.8858 - val_loss: 0.9387 - val_binary_accuracy: 0.2368 - val_binary_crossentropy: 0.9387\n",
      "Epoch 101/200\n",
      "10/10 [==============================] - 0s 10ms/step - loss: 0.8853 - binary_accuracy: 0.3600 - binary_crossentropy: 0.8853 - val_loss: 0.9381 - val_binary_accuracy: 0.2368 - val_binary_crossentropy: 0.9381\n",
      "Epoch 102/200\n",
      "10/10 [==============================] - 0s 10ms/step - loss: 0.8848 - binary_accuracy: 0.3600 - binary_crossentropy: 0.8848 - val_loss: 0.9374 - val_binary_accuracy: 0.2368 - val_binary_crossentropy: 0.9374\n",
      "Epoch 103/200\n",
      "10/10 [==============================] - 0s 10ms/step - loss: 0.8843 - binary_accuracy: 0.3600 - binary_crossentropy: 0.8843 - val_loss: 0.9368 - val_binary_accuracy: 0.2368 - val_binary_crossentropy: 0.9368\n",
      "Epoch 104/200\n",
      "10/10 [==============================] - 0s 10ms/step - loss: 0.8838 - binary_accuracy: 0.3600 - binary_crossentropy: 0.8838 - val_loss: 0.9361 - val_binary_accuracy: 0.2368 - val_binary_crossentropy: 0.9361\n",
      "Epoch 105/200\n",
      "10/10 [==============================] - 0s 10ms/step - loss: 0.8834 - binary_accuracy: 0.3600 - binary_crossentropy: 0.8834 - val_loss: 0.9355 - val_binary_accuracy: 0.2368 - val_binary_crossentropy: 0.9355\n",
      "Epoch 106/200\n",
      "10/10 [==============================] - 0s 10ms/step - loss: 0.8829 - binary_accuracy: 0.3600 - binary_crossentropy: 0.8829 - val_loss: 0.9349 - val_binary_accuracy: 0.2368 - val_binary_crossentropy: 0.9349\n",
      "Epoch 107/200\n",
      "10/10 [==============================] - 0s 10ms/step - loss: 0.8825 - binary_accuracy: 0.3600 - binary_crossentropy: 0.8825 - val_loss: 0.9343 - val_binary_accuracy: 0.2368 - val_binary_crossentropy: 0.9343\n",
      "Epoch 108/200\n",
      "10/10 [==============================] - 0s 10ms/step - loss: 0.8820 - binary_accuracy: 0.3600 - binary_crossentropy: 0.8820 - val_loss: 0.9338 - val_binary_accuracy: 0.2368 - val_binary_crossentropy: 0.9338\n",
      "Epoch 109/200\n",
      "10/10 [==============================] - 0s 10ms/step - loss: 0.8816 - binary_accuracy: 0.3600 - binary_crossentropy: 0.8816 - val_loss: 0.9332 - val_binary_accuracy: 0.2368 - val_binary_crossentropy: 0.9332\n",
      "Epoch 110/200\n",
      "10/10 [==============================] - 0s 10ms/step - loss: 0.8812 - binary_accuracy: 0.3600 - binary_crossentropy: 0.8812 - val_loss: 0.9327 - val_binary_accuracy: 0.2368 - val_binary_crossentropy: 0.9327\n",
      "Epoch 111/200\n",
      "10/10 [==============================] - 0s 10ms/step - loss: 0.8808 - binary_accuracy: 0.3600 - binary_crossentropy: 0.8808 - val_loss: 0.9321 - val_binary_accuracy: 0.2368 - val_binary_crossentropy: 0.9321\n",
      "Epoch 112/200\n"
     ]
    },
    {
     "name": "stdout",
     "output_type": "stream",
     "text": [
      "10/10 [==============================] - 0s 10ms/step - loss: 0.8804 - binary_accuracy: 0.3600 - binary_crossentropy: 0.8804 - val_loss: 0.9316 - val_binary_accuracy: 0.2368 - val_binary_crossentropy: 0.9316\n",
      "Epoch 113/200\n",
      "10/10 [==============================] - 0s 10ms/step - loss: 0.8800 - binary_accuracy: 0.3600 - binary_crossentropy: 0.8800 - val_loss: 0.9311 - val_binary_accuracy: 0.2368 - val_binary_crossentropy: 0.9311\n",
      "Epoch 114/200\n",
      "10/10 [==============================] - 0s 10ms/step - loss: 0.8796 - binary_accuracy: 0.3600 - binary_crossentropy: 0.8796 - val_loss: 0.9306 - val_binary_accuracy: 0.2368 - val_binary_crossentropy: 0.9306\n",
      "Epoch 115/200\n",
      "10/10 [==============================] - 0s 10ms/step - loss: 0.8792 - binary_accuracy: 0.3600 - binary_crossentropy: 0.8792 - val_loss: 0.9301 - val_binary_accuracy: 0.2368 - val_binary_crossentropy: 0.9301\n",
      "Epoch 116/200\n",
      "10/10 [==============================] - 0s 10ms/step - loss: 0.8789 - binary_accuracy: 0.3600 - binary_crossentropy: 0.8789 - val_loss: 0.9296 - val_binary_accuracy: 0.2368 - val_binary_crossentropy: 0.9296\n",
      "Epoch 117/200\n",
      "10/10 [==============================] - 0s 10ms/step - loss: 0.8785 - binary_accuracy: 0.3600 - binary_crossentropy: 0.8785 - val_loss: 0.9292 - val_binary_accuracy: 0.2368 - val_binary_crossentropy: 0.9292\n",
      "Epoch 118/200\n",
      "10/10 [==============================] - 0s 10ms/step - loss: 0.8782 - binary_accuracy: 0.3600 - binary_crossentropy: 0.8782 - val_loss: 0.9287 - val_binary_accuracy: 0.2368 - val_binary_crossentropy: 0.9287\n",
      "Epoch 119/200\n",
      "10/10 [==============================] - 0s 10ms/step - loss: 0.8778 - binary_accuracy: 0.3600 - binary_crossentropy: 0.8778 - val_loss: 0.9283 - val_binary_accuracy: 0.2368 - val_binary_crossentropy: 0.9283\n",
      "Epoch 120/200\n",
      "10/10 [==============================] - 0s 10ms/step - loss: 0.8775 - binary_accuracy: 0.3600 - binary_crossentropy: 0.8775 - val_loss: 0.9278 - val_binary_accuracy: 0.2368 - val_binary_crossentropy: 0.9278\n",
      "Epoch 121/200\n",
      "10/10 [==============================] - 0s 10ms/step - loss: 0.8772 - binary_accuracy: 0.3600 - binary_crossentropy: 0.8772 - val_loss: 0.9274 - val_binary_accuracy: 0.2368 - val_binary_crossentropy: 0.9274\n",
      "Epoch 122/200\n",
      "10/10 [==============================] - 0s 10ms/step - loss: 0.8769 - binary_accuracy: 0.3600 - binary_crossentropy: 0.8769 - val_loss: 0.9270 - val_binary_accuracy: 0.2368 - val_binary_crossentropy: 0.9270\n",
      "Epoch 123/200\n",
      "10/10 [==============================] - 0s 9ms/step - loss: 0.8766 - binary_accuracy: 0.3600 - binary_crossentropy: 0.8766 - val_loss: 0.9266 - val_binary_accuracy: 0.2368 - val_binary_crossentropy: 0.9266\n",
      "Epoch 124/200\n",
      "10/10 [==============================] - 0s 10ms/step - loss: 0.8763 - binary_accuracy: 0.3600 - binary_crossentropy: 0.8763 - val_loss: 0.9262 - val_binary_accuracy: 0.2368 - val_binary_crossentropy: 0.9262\n",
      "Epoch 125/200\n",
      "10/10 [==============================] - 0s 10ms/step - loss: 0.8760 - binary_accuracy: 0.3600 - binary_crossentropy: 0.8760 - val_loss: 0.9258 - val_binary_accuracy: 0.2368 - val_binary_crossentropy: 0.9258\n",
      "Epoch 126/200\n",
      "10/10 [==============================] - 0s 10ms/step - loss: 0.8757 - binary_accuracy: 0.3600 - binary_crossentropy: 0.8757 - val_loss: 0.9255 - val_binary_accuracy: 0.2368 - val_binary_crossentropy: 0.9255\n",
      "Epoch 127/200\n",
      "10/10 [==============================] - 0s 10ms/step - loss: 0.8754 - binary_accuracy: 0.3600 - binary_crossentropy: 0.8754 - val_loss: 0.9251 - val_binary_accuracy: 0.2368 - val_binary_crossentropy: 0.9251\n",
      "Epoch 128/200\n",
      "10/10 [==============================] - 0s 10ms/step - loss: 0.8752 - binary_accuracy: 0.3600 - binary_crossentropy: 0.8752 - val_loss: 0.9248 - val_binary_accuracy: 0.2368 - val_binary_crossentropy: 0.9248\n",
      "Epoch 129/200\n",
      "10/10 [==============================] - 0s 10ms/step - loss: 0.8749 - binary_accuracy: 0.3600 - binary_crossentropy: 0.8749 - val_loss: 0.9244 - val_binary_accuracy: 0.2368 - val_binary_crossentropy: 0.9244\n",
      "Epoch 130/200\n",
      "10/10 [==============================] - 0s 10ms/step - loss: 0.8747 - binary_accuracy: 0.3600 - binary_crossentropy: 0.8747 - val_loss: 0.9241 - val_binary_accuracy: 0.2368 - val_binary_crossentropy: 0.9241\n",
      "Epoch 131/200\n",
      "10/10 [==============================] - 0s 10ms/step - loss: 0.8744 - binary_accuracy: 0.3600 - binary_crossentropy: 0.8744 - val_loss: 0.9238 - val_binary_accuracy: 0.2368 - val_binary_crossentropy: 0.9238\n",
      "Epoch 132/200\n",
      "10/10 [==============================] - 0s 10ms/step - loss: 0.8742 - binary_accuracy: 0.3600 - binary_crossentropy: 0.8742 - val_loss: 0.9235 - val_binary_accuracy: 0.2368 - val_binary_crossentropy: 0.9235\n",
      "Epoch 133/200\n",
      "10/10 [==============================] - 0s 10ms/step - loss: 0.8740 - binary_accuracy: 0.3600 - binary_crossentropy: 0.8740 - val_loss: 0.9232 - val_binary_accuracy: 0.2368 - val_binary_crossentropy: 0.9232\n",
      "Epoch 134/200\n",
      "10/10 [==============================] - 0s 10ms/step - loss: 0.8738 - binary_accuracy: 0.3600 - binary_crossentropy: 0.8738 - val_loss: 0.9229 - val_binary_accuracy: 0.2368 - val_binary_crossentropy: 0.9229\n",
      "Epoch 135/200\n",
      "10/10 [==============================] - 0s 10ms/step - loss: 0.8735 - binary_accuracy: 0.3600 - binary_crossentropy: 0.8735 - val_loss: 0.9226 - val_binary_accuracy: 0.2368 - val_binary_crossentropy: 0.9226\n",
      "Epoch 136/200\n",
      "10/10 [==============================] - 0s 10ms/step - loss: 0.8733 - binary_accuracy: 0.3600 - binary_crossentropy: 0.8733 - val_loss: 0.9223 - val_binary_accuracy: 0.2368 - val_binary_crossentropy: 0.9223\n",
      "Epoch 137/200\n",
      "10/10 [==============================] - 0s 10ms/step - loss: 0.8731 - binary_accuracy: 0.3600 - binary_crossentropy: 0.8731 - val_loss: 0.9221 - val_binary_accuracy: 0.2368 - val_binary_crossentropy: 0.9221\n",
      "Epoch 138/200\n",
      "10/10 [==============================] - 0s 10ms/step - loss: 0.8729 - binary_accuracy: 0.3600 - binary_crossentropy: 0.8729 - val_loss: 0.9218 - val_binary_accuracy: 0.2368 - val_binary_crossentropy: 0.9218\n",
      "Epoch 139/200\n",
      "10/10 [==============================] - 0s 10ms/step - loss: 0.8727 - binary_accuracy: 0.3600 - binary_crossentropy: 0.8727 - val_loss: 0.9216 - val_binary_accuracy: 0.2368 - val_binary_crossentropy: 0.9216\n",
      "Epoch 140/200\n",
      "10/10 [==============================] - 0s 10ms/step - loss: 0.8726 - binary_accuracy: 0.3600 - binary_crossentropy: 0.8726 - val_loss: 0.9213 - val_binary_accuracy: 0.2368 - val_binary_crossentropy: 0.9213\n",
      "Epoch 141/200\n",
      "10/10 [==============================] - 0s 10ms/step - loss: 0.8724 - binary_accuracy: 0.3600 - binary_crossentropy: 0.8724 - val_loss: 0.9211 - val_binary_accuracy: 0.2368 - val_binary_crossentropy: 0.9211\n",
      "Epoch 142/200\n",
      "10/10 [==============================] - 0s 10ms/step - loss: 0.8722 - binary_accuracy: 0.3600 - binary_crossentropy: 0.8722 - val_loss: 0.9209 - val_binary_accuracy: 0.2368 - val_binary_crossentropy: 0.9209\n",
      "Epoch 143/200\n",
      "10/10 [==============================] - 0s 10ms/step - loss: 0.8721 - binary_accuracy: 0.3600 - binary_crossentropy: 0.8721 - val_loss: 0.9207 - val_binary_accuracy: 0.2368 - val_binary_crossentropy: 0.9207\n",
      "Epoch 144/200\n",
      "10/10 [==============================] - 0s 10ms/step - loss: 0.8719 - binary_accuracy: 0.3600 - binary_crossentropy: 0.8719 - val_loss: 0.9205 - val_binary_accuracy: 0.2368 - val_binary_crossentropy: 0.9205\n",
      "Epoch 145/200\n",
      "10/10 [==============================] - 0s 10ms/step - loss: 0.8717 - binary_accuracy: 0.3600 - binary_crossentropy: 0.8717 - val_loss: 0.9203 - val_binary_accuracy: 0.2368 - val_binary_crossentropy: 0.9203\n",
      "Epoch 146/200\n",
      "10/10 [==============================] - 0s 10ms/step - loss: 0.8716 - binary_accuracy: 0.3600 - binary_crossentropy: 0.8716 - val_loss: 0.9201 - val_binary_accuracy: 0.2368 - val_binary_crossentropy: 0.9201\n",
      "Epoch 147/200\n",
      "10/10 [==============================] - 0s 10ms/step - loss: 0.8715 - binary_accuracy: 0.3600 - binary_crossentropy: 0.8715 - val_loss: 0.9199 - val_binary_accuracy: 0.2368 - val_binary_crossentropy: 0.9199\n",
      "Epoch 148/200\n",
      "10/10 [==============================] - 0s 10ms/step - loss: 0.8713 - binary_accuracy: 0.3600 - binary_crossentropy: 0.8713 - val_loss: 0.9197 - val_binary_accuracy: 0.2368 - val_binary_crossentropy: 0.9197\n"
     ]
    },
    {
     "name": "stdout",
     "output_type": "stream",
     "text": [
      "Epoch 149/200\n",
      "10/10 [==============================] - 0s 10ms/step - loss: 0.8712 - binary_accuracy: 0.3600 - binary_crossentropy: 0.8712 - val_loss: 0.9195 - val_binary_accuracy: 0.2368 - val_binary_crossentropy: 0.9195\n",
      "Epoch 150/200\n",
      "10/10 [==============================] - 0s 10ms/step - loss: 0.8711 - binary_accuracy: 0.3600 - binary_crossentropy: 0.8711 - val_loss: 0.9194 - val_binary_accuracy: 0.2368 - val_binary_crossentropy: 0.9194\n",
      "Epoch 151/200\n",
      "10/10 [==============================] - 0s 10ms/step - loss: 0.8709 - binary_accuracy: 0.3600 - binary_crossentropy: 0.8709 - val_loss: 0.9192 - val_binary_accuracy: 0.2368 - val_binary_crossentropy: 0.9192\n",
      "Epoch 152/200\n",
      "10/10 [==============================] - 0s 10ms/step - loss: 0.8708 - binary_accuracy: 0.3600 - binary_crossentropy: 0.8708 - val_loss: 0.9191 - val_binary_accuracy: 0.2368 - val_binary_crossentropy: 0.9191\n",
      "Epoch 153/200\n",
      "10/10 [==============================] - 0s 10ms/step - loss: 0.8707 - binary_accuracy: 0.3600 - binary_crossentropy: 0.8707 - val_loss: 0.9189 - val_binary_accuracy: 0.2368 - val_binary_crossentropy: 0.9189\n",
      "Epoch 154/200\n",
      "10/10 [==============================] - 0s 10ms/step - loss: 0.8706 - binary_accuracy: 0.3600 - binary_crossentropy: 0.8706 - val_loss: 0.9188 - val_binary_accuracy: 0.2368 - val_binary_crossentropy: 0.9188\n",
      "Epoch 155/200\n",
      "10/10 [==============================] - 0s 10ms/step - loss: 0.8705 - binary_accuracy: 0.3600 - binary_crossentropy: 0.8705 - val_loss: 0.9186 - val_binary_accuracy: 0.2368 - val_binary_crossentropy: 0.9186\n",
      "Epoch 156/200\n",
      "10/10 [==============================] - 0s 10ms/step - loss: 0.8704 - binary_accuracy: 0.3600 - binary_crossentropy: 0.8704 - val_loss: 0.9185 - val_binary_accuracy: 0.2368 - val_binary_crossentropy: 0.9185\n",
      "Epoch 157/200\n",
      "10/10 [==============================] - 0s 10ms/step - loss: 0.8703 - binary_accuracy: 0.3600 - binary_crossentropy: 0.8703 - val_loss: 0.9184 - val_binary_accuracy: 0.2368 - val_binary_crossentropy: 0.9184\n",
      "Epoch 158/200\n",
      "10/10 [==============================] - 0s 10ms/step - loss: 0.8702 - binary_accuracy: 0.3600 - binary_crossentropy: 0.8702 - val_loss: 0.9183 - val_binary_accuracy: 0.2368 - val_binary_crossentropy: 0.9183\n",
      "Epoch 159/200\n",
      "10/10 [==============================] - 0s 10ms/step - loss: 0.8701 - binary_accuracy: 0.3600 - binary_crossentropy: 0.8701 - val_loss: 0.9182 - val_binary_accuracy: 0.2368 - val_binary_crossentropy: 0.9182\n",
      "Epoch 160/200\n",
      "10/10 [==============================] - 0s 10ms/step - loss: 0.8701 - binary_accuracy: 0.3600 - binary_crossentropy: 0.8701 - val_loss: 0.9181 - val_binary_accuracy: 0.2368 - val_binary_crossentropy: 0.9181\n",
      "Epoch 161/200\n",
      "10/10 [==============================] - 0s 10ms/step - loss: 0.8700 - binary_accuracy: 0.3600 - binary_crossentropy: 0.8700 - val_loss: 0.9180 - val_binary_accuracy: 0.2368 - val_binary_crossentropy: 0.9180\n",
      "Epoch 162/200\n",
      "10/10 [==============================] - 0s 10ms/step - loss: 0.8699 - binary_accuracy: 0.3600 - binary_crossentropy: 0.8699 - val_loss: 0.9179 - val_binary_accuracy: 0.2368 - val_binary_crossentropy: 0.9179\n",
      "Epoch 163/200\n",
      "10/10 [==============================] - 0s 10ms/step - loss: 0.8698 - binary_accuracy: 0.3600 - binary_crossentropy: 0.8698 - val_loss: 0.9178 - val_binary_accuracy: 0.2368 - val_binary_crossentropy: 0.9178\n",
      "Epoch 164/200\n",
      "10/10 [==============================] - 0s 10ms/step - loss: 0.8698 - binary_accuracy: 0.3600 - binary_crossentropy: 0.8698 - val_loss: 0.9177 - val_binary_accuracy: 0.2368 - val_binary_crossentropy: 0.9177\n",
      "Epoch 165/200\n",
      "10/10 [==============================] - 0s 10ms/step - loss: 0.8697 - binary_accuracy: 0.3600 - binary_crossentropy: 0.8697 - val_loss: 0.9176 - val_binary_accuracy: 0.2368 - val_binary_crossentropy: 0.9176\n",
      "Epoch 166/200\n",
      "10/10 [==============================] - 0s 10ms/step - loss: 0.8697 - binary_accuracy: 0.3600 - binary_crossentropy: 0.8697 - val_loss: 0.9175 - val_binary_accuracy: 0.2368 - val_binary_crossentropy: 0.9175\n",
      "Epoch 167/200\n",
      "10/10 [==============================] - 0s 10ms/step - loss: 0.8696 - binary_accuracy: 0.3600 - binary_crossentropy: 0.8696 - val_loss: 0.9175 - val_binary_accuracy: 0.2368 - val_binary_crossentropy: 0.9175\n",
      "Epoch 168/200\n",
      "10/10 [==============================] - 0s 10ms/step - loss: 0.8696 - binary_accuracy: 0.3600 - binary_crossentropy: 0.8696 - val_loss: 0.9174 - val_binary_accuracy: 0.2368 - val_binary_crossentropy: 0.9174\n",
      "Epoch 169/200\n",
      "10/10 [==============================] - 0s 10ms/step - loss: 0.8695 - binary_accuracy: 0.3600 - binary_crossentropy: 0.8695 - val_loss: 0.9173 - val_binary_accuracy: 0.2368 - val_binary_crossentropy: 0.9173\n",
      "Epoch 170/200\n",
      "10/10 [==============================] - 0s 10ms/step - loss: 0.8695 - binary_accuracy: 0.3600 - binary_crossentropy: 0.8695 - val_loss: 0.9173 - val_binary_accuracy: 0.2368 - val_binary_crossentropy: 0.9173\n",
      "Epoch 171/200\n",
      "10/10 [==============================] - 0s 10ms/step - loss: 0.8694 - binary_accuracy: 0.3600 - binary_crossentropy: 0.8694 - val_loss: 0.9172 - val_binary_accuracy: 0.2368 - val_binary_crossentropy: 0.9172\n",
      "Epoch 172/200\n",
      "10/10 [==============================] - 0s 10ms/step - loss: 0.8694 - binary_accuracy: 0.3600 - binary_crossentropy: 0.8694 - val_loss: 0.9172 - val_binary_accuracy: 0.2368 - val_binary_crossentropy: 0.9172\n",
      "Epoch 173/200\n",
      "10/10 [==============================] - 0s 10ms/step - loss: 0.8693 - binary_accuracy: 0.3600 - binary_crossentropy: 0.8693 - val_loss: 0.9171 - val_binary_accuracy: 0.2368 - val_binary_crossentropy: 0.9171\n",
      "Epoch 174/200\n",
      "10/10 [==============================] - 0s 10ms/step - loss: 0.8693 - binary_accuracy: 0.3600 - binary_crossentropy: 0.8693 - val_loss: 0.9171 - val_binary_accuracy: 0.2368 - val_binary_crossentropy: 0.9171\n",
      "Epoch 175/200\n",
      "10/10 [==============================] - 0s 10ms/step - loss: 0.8693 - binary_accuracy: 0.3600 - binary_crossentropy: 0.8693 - val_loss: 0.9170 - val_binary_accuracy: 0.2368 - val_binary_crossentropy: 0.9170\n",
      "Epoch 176/200\n",
      "10/10 [==============================] - 0s 10ms/step - loss: 0.8692 - binary_accuracy: 0.3600 - binary_crossentropy: 0.8692 - val_loss: 0.9170 - val_binary_accuracy: 0.2368 - val_binary_crossentropy: 0.9170\n",
      "Epoch 177/200\n",
      "10/10 [==============================] - 0s 10ms/step - loss: 0.8692 - binary_accuracy: 0.3600 - binary_crossentropy: 0.8692 - val_loss: 0.9170 - val_binary_accuracy: 0.2368 - val_binary_crossentropy: 0.9170\n",
      "Epoch 178/200\n",
      "10/10 [==============================] - 0s 10ms/step - loss: 0.8692 - binary_accuracy: 0.3600 - binary_crossentropy: 0.8692 - val_loss: 0.9169 - val_binary_accuracy: 0.2368 - val_binary_crossentropy: 0.9169\n",
      "Epoch 179/200\n",
      "10/10 [==============================] - 0s 10ms/step - loss: 0.8692 - binary_accuracy: 0.3600 - binary_crossentropy: 0.8692 - val_loss: 0.9169 - val_binary_accuracy: 0.2368 - val_binary_crossentropy: 0.9169\n",
      "Epoch 180/200\n",
      "10/10 [==============================] - 0s 10ms/step - loss: 0.8692 - binary_accuracy: 0.3600 - binary_crossentropy: 0.8692 - val_loss: 0.9169 - val_binary_accuracy: 0.2368 - val_binary_crossentropy: 0.9169\n",
      "Epoch 181/200\n",
      "10/10 [==============================] - 0s 10ms/step - loss: 0.8691 - binary_accuracy: 0.3600 - binary_crossentropy: 0.8691 - val_loss: 0.9169 - val_binary_accuracy: 0.2368 - val_binary_crossentropy: 0.9169\n",
      "Epoch 182/200\n",
      "10/10 [==============================] - 0s 10ms/step - loss: 0.8691 - binary_accuracy: 0.3600 - binary_crossentropy: 0.8691 - val_loss: 0.9168 - val_binary_accuracy: 0.2368 - val_binary_crossentropy: 0.9168\n",
      "Epoch 183/200\n",
      "10/10 [==============================] - 0s 10ms/step - loss: 0.8691 - binary_accuracy: 0.3600 - binary_crossentropy: 0.8691 - val_loss: 0.9168 - val_binary_accuracy: 0.2368 - val_binary_crossentropy: 0.9168\n",
      "Epoch 184/200\n",
      "10/10 [==============================] - 0s 10ms/step - loss: 0.8691 - binary_accuracy: 0.3600 - binary_crossentropy: 0.8691 - val_loss: 0.9168 - val_binary_accuracy: 0.2368 - val_binary_crossentropy: 0.9168\n",
      "Epoch 185/200\n",
      "10/10 [==============================] - 0s 10ms/step - loss: 0.8691 - binary_accuracy: 0.3600 - binary_crossentropy: 0.8691 - val_loss: 0.9168 - val_binary_accuracy: 0.2368 - val_binary_crossentropy: 0.9168\n"
     ]
    },
    {
     "name": "stdout",
     "output_type": "stream",
     "text": [
      "Epoch 186/200\n",
      "10/10 [==============================] - 0s 10ms/step - loss: 0.8691 - binary_accuracy: 0.3600 - binary_crossentropy: 0.8691 - val_loss: 0.9168 - val_binary_accuracy: 0.2368 - val_binary_crossentropy: 0.9168\n",
      "Epoch 187/200\n",
      "10/10 [==============================] - 0s 10ms/step - loss: 0.8691 - binary_accuracy: 0.3600 - binary_crossentropy: 0.8691 - val_loss: 0.9168 - val_binary_accuracy: 0.2368 - val_binary_crossentropy: 0.9168\n",
      "Epoch 188/200\n",
      "10/10 [==============================] - 0s 10ms/step - loss: 0.8690 - binary_accuracy: 0.3600 - binary_crossentropy: 0.8690 - val_loss: 0.9168 - val_binary_accuracy: 0.2368 - val_binary_crossentropy: 0.9168\n",
      "Epoch 189/200\n",
      "10/10 [==============================] - 0s 10ms/step - loss: 0.8690 - binary_accuracy: 0.3600 - binary_crossentropy: 0.8690 - val_loss: 0.9167 - val_binary_accuracy: 0.2368 - val_binary_crossentropy: 0.9167\n",
      "Epoch 190/200\n",
      "10/10 [==============================] - 0s 10ms/step - loss: 0.8690 - binary_accuracy: 0.3600 - binary_crossentropy: 0.8690 - val_loss: 0.9167 - val_binary_accuracy: 0.2368 - val_binary_crossentropy: 0.9167\n",
      "Epoch 191/200\n",
      "10/10 [==============================] - 0s 10ms/step - loss: 0.8690 - binary_accuracy: 0.3600 - binary_crossentropy: 0.8690 - val_loss: 0.9167 - val_binary_accuracy: 0.2368 - val_binary_crossentropy: 0.9167\n",
      "Epoch 192/200\n",
      "10/10 [==============================] - 0s 10ms/step - loss: 0.8690 - binary_accuracy: 0.3600 - binary_crossentropy: 0.8690 - val_loss: 0.9167 - val_binary_accuracy: 0.2368 - val_binary_crossentropy: 0.9167\n",
      "Epoch 193/200\n",
      "10/10 [==============================] - 0s 10ms/step - loss: 0.8690 - binary_accuracy: 0.3600 - binary_crossentropy: 0.8690 - val_loss: 0.9167 - val_binary_accuracy: 0.2368 - val_binary_crossentropy: 0.9167\n",
      "Epoch 194/200\n",
      "10/10 [==============================] - 0s 10ms/step - loss: 0.8690 - binary_accuracy: 0.3600 - binary_crossentropy: 0.8690 - val_loss: 0.9167 - val_binary_accuracy: 0.2368 - val_binary_crossentropy: 0.9167\n",
      "Epoch 195/200\n",
      "10/10 [==============================] - 0s 10ms/step - loss: 0.8690 - binary_accuracy: 0.3600 - binary_crossentropy: 0.8690 - val_loss: 0.9167 - val_binary_accuracy: 0.2368 - val_binary_crossentropy: 0.9167\n",
      "Epoch 196/200\n",
      "10/10 [==============================] - 0s 10ms/step - loss: 0.8690 - binary_accuracy: 0.3600 - binary_crossentropy: 0.8690 - val_loss: 0.9167 - val_binary_accuracy: 0.2368 - val_binary_crossentropy: 0.9167\n",
      "Epoch 197/200\n",
      "10/10 [==============================] - 0s 10ms/step - loss: 0.8690 - binary_accuracy: 0.3600 - binary_crossentropy: 0.8690 - val_loss: 0.9167 - val_binary_accuracy: 0.2368 - val_binary_crossentropy: 0.9167\n",
      "Epoch 198/200\n",
      "10/10 [==============================] - 0s 10ms/step - loss: 0.8690 - binary_accuracy: 0.3600 - binary_crossentropy: 0.8690 - val_loss: 0.9167 - val_binary_accuracy: 0.2368 - val_binary_crossentropy: 0.9167\n",
      "Epoch 199/200\n",
      "10/10 [==============================] - 0s 10ms/step - loss: 0.8690 - binary_accuracy: 0.3600 - binary_crossentropy: 0.8690 - val_loss: 0.9167 - val_binary_accuracy: 0.2368 - val_binary_crossentropy: 0.9167\n",
      "Epoch 200/200\n",
      "10/10 [==============================] - 0s 10ms/step - loss: 0.8690 - binary_accuracy: 0.3600 - binary_crossentropy: 0.8690 - val_loss: 0.9167 - val_binary_accuracy: 0.2368 - val_binary_crossentropy: 0.9167\n"
     ]
    }
   ],
   "source": [
    "steps_per_epoch = 10 #@param {type:\"integer\"}\n",
    "epochs = 200 #@param {type:\"integer\"}\n",
    "\n",
    "history = model.fit(train_ds_batched,\n",
    "                    steps_per_epoch=steps_per_epoch,\n",
    "                    epochs=epochs,\n",
    "                    validation_data=test_ds_batched)"
   ]
  },
  {
   "cell_type": "code",
   "execution_count": 13,
   "metadata": {},
   "outputs": [
    {
     "data": {
      "image/png": "[encoded data removed]",
      "text/plain": [
       "<Figure size 432x288 with 1 Axes>"
      ]
     },
     "metadata": {
      "needs_background": "light"
     },
     "output_type": "display_data"
    },
    {
     "data": {
      "image/png": "[encoded data removed]",
      "text/plain": [
       "<Figure size 432x288 with 1 Axes>"
      ]
     },
     "metadata": {
      "needs_background": "light"
     },
     "output_type": "display_data"
    },
    {
     "data": {
      "image/png": "[encoded data removed]",
      "text/plain": [
       "<Figure size 432x288 with 1 Axes>"
      ]
     },
     "metadata": {
      "needs_background": "light"
     },
     "output_type": "display_data"
    },
    {
     "data": {
      "image/png": "[encoded data removed]",
      "text/plain": [
       "<Figure size 432x288 with 1 Axes>"
      ]
     },
     "metadata": {
      "needs_background": "light"
     },
     "output_type": "display_data"
    },
    {
     "data": {
      "image/png": "[encoded data removed]",
      "text/plain": [
       "<Figure size 432x288 with 1 Axes>"
      ]
     },
     "metadata": {
      "needs_background": "light"
     },
     "output_type": "display_data"
    },
    {
     "data": {
      "image/png": "[encoded data removed]",
      "text/plain": [
       "<Figure size 432x288 with 1 Axes>"
      ]
     },
     "metadata": {
      "needs_background": "light"
     },
     "output_type": "display_data"
    }
   ],
   "source": [
    "for k, hist in history.history.items():\n",
    "    plt.plot(hist)\n",
    "    plt.title(k)\n",
    "    plt.show()"
   ]
  },
  {
   "cell_type": "code",
   "execution_count": null,
   "metadata": {},
   "outputs": [],
   "source": []
  }
 ],
 "metadata": {
  "kernelspec": {
   "display_name": "Python 3 (ipykernel)",
   "language": "python",
   "name": "python3"
  },
  "language_info": {
   "codemirror_mode": {
    "name": "ipython",
    "version": 3
   },
   "file_extension": ".py",
   "mimetype": "text/x-python",
   "name": "python",
   "nbconvert_exporter": "python",
   "pygments_lexer": "ipython3",
   "version": "3.8.3"
  }
 },
 "nbformat": 4,
 "nbformat_minor": 4
}
